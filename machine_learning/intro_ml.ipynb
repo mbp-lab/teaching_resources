{
 "cells": [
  {
   "cell_type": "markdown",
   "metadata": {
    "slideshow": {
     "slide_type": "slide"
    },
    "tags": []
   },
   "source": [
    "# Building a Machine Learning Model  \n",
    "---"
   ]
  },
  {
   "cell_type": "markdown",
   "metadata": {
    "slideshow": {
     "slide_type": "slide"
    },
    "tags": []
   },
   "source": [
    "## Introduction "
   ]
  },
  {
   "cell_type": "markdown",
   "metadata": {
    "slideshow": {
     "slide_type": "fragment"
    },
    "tags": []
   },
   "source": [
    "- In this notebook I will show you the basics of training a machine learning algorithm.  \n",
    "  - For this example, we will perform __supervised learning__ by training __Support Vector Machines__, a common ML algorithm, __detect music genres from audio files__. \n",
    "\n",
    "- To train the models we will use two datasets consisting of audio features for the task of **genre classification**. \n",
    "  - The audio features are calculated from audio (.WAV) files using [Marsyas](http://marsyas.info/index.html#), an open source framework for audio analysis. \n",
    "\n",
    "- The first dataset contains just two song level features (average spectral centroid and average spectral rolloff). \n",
    "   - Using only two features we can directly visualize the data with a scatter plot. \n",
    "   - The points are colored in terms of their class membership.  \n",
    "\n",
    "- The second dataset contains the same songs but with a set of 124 spectral features.\n",
    "\n",
    "- There are three genres each represented by a 100 audio tracks or points in this case.\n",
    "  - __classical, jazz and metal__. \n",
    "\n",
    "- Through the process we will get an intro to:\n",
    "  - the ML pipeline\n",
    "  - common ML tools (numpy, pandas, scikit-learn, matplotlib),\n",
    "  - running a Jupyter Notebook (which will be needed later in the semester).\n",
    "\n",
    "- We will use [scikit-learn](https://scikit-learn.org/stable/index.html)\n",
    "  - a common ML framework for Python, to implement the ML pipeline. "
   ]
  },
  {
   "cell_type": "markdown",
   "metadata": {
    "slideshow": {
     "slide_type": "slide"
    },
    "tags": []
   },
   "source": [
    "### Standard Imports"
   ]
  },
  {
   "cell_type": "code",
   "execution_count": 1,
   "metadata": {
    "slideshow": {
     "slide_type": "fragment"
    },
    "tags": []
   },
   "outputs": [],
   "source": [
    "# Numpy for vector processing and linear algebra\n",
    "import numpy as np\n",
    "\n",
    "# Scikit learn for ML Pipeline\n",
    "from sklearn.base import BaseEstimator\n",
    "from sklearn.pipeline import Pipeline\n",
    "from sklearn import datasets\n",
    "from sklearn.datasets import make_blobs\n",
    "from sklearn import preprocessing\n",
    "from sklearn.model_selection import GridSearchCV\n",
    "from sklearn import svm\n",
    "from sklearn import model_selection\n",
    "from sklearn import metrics\n",
    "\n",
    "# Matplotlib + Seaborn for plotting\n",
    "%matplotlib inline\n",
    "import matplotlib.pyplot as plt\n",
    "import seaborn as sns\n",
    "\n",
    "# Panda for data processing\n",
    "import pandas as pd\n",
    "pd.set_option('display.float_format', lambda x: '%.5f' % x)\n",
    "\n",
    "# Other Utils\n",
    "from intro_ml_utils import make_mesh\n",
    "from data.data_utils import get_doughnut_dataset"
   ]
  },
  {
   "cell_type": "markdown",
   "metadata": {
    "jp-MarkdownHeadingCollapsed": true,
    "slideshow": {
     "slide_type": "skip"
    },
    "tags": []
   },
   "source": [
    "##  \n",
    "---"
   ]
  },
  {
   "cell_type": "markdown",
   "metadata": {
    "slideshow": {
     "slide_type": "slide"
    },
    "tags": []
   },
   "source": [
    "## Data Generation\n",
    "\n",
    "<img src=\"images/ml_pipeline_data.png\" width=1200>"
   ]
  },
  {
   "cell_type": "markdown",
   "metadata": {
    "slideshow": {
     "slide_type": "slide"
    },
    "tags": []
   },
   "source": [
    "### Data Collection and Annotation"
   ]
  },
  {
   "cell_type": "markdown",
   "metadata": {
    "jp-MarkdownHeadingCollapsed": true,
    "slideshow": {
     "slide_type": "slide"
    },
    "tags": []
   },
   "source": [
    "#### _Methods for Collection and Annotation_\n",
    "- __Manual Annotation__\n",
    "- __Empirical Studies / Experiments__\n",
    "  - physiological measurements from the Trier Social Stress Test\n",
    "- __Web Scraping__\n",
    "  - search Google Images for pictures of specified facial expressions, such as _happy_ or _sad_\n",
    "- __Historical Data and Records__\n",
    "  - Risk assessment systems\n",
    "- __Crowdsourcing__\n",
    "  - [Amazon Mechanical Turk](https://onlinelibrary.wiley.com/doi/abs/10.1002/bdm.1753?casa_token=iW56bog9MJAAAAAA:BnSAAMDrpDFfnwMvphaHyfatw4W1f5q1RPT3KuhZitEYpNX1fDoBC7nRvNUvANvF5nFQvsO_d8WchavK)\n",
    "  - [Data annotation games](https://www.cs.cmu.edu/~elaw/papers/ISMIR2007.pdf)\n",
    "- __Existing Datasets__\n",
    "  - [ImageNet](https://www.image-net.org/)\n",
    "  \n",
    " __What are the potential issues with these methods for data collection?__\n",
    " \n",
    " ---"
   ]
  },
  {
   "cell_type": "markdown",
   "metadata": {
    "jp-MarkdownHeadingCollapsed": true,
    "slideshow": {
     "slide_type": "slide"
    },
    "tags": []
   },
   "source": [
    "#### [GTZAN Music Genre Dataset](https://www.tensorflow.org/datasets/catalog/gtzan)\n",
    "\n",
    "For this example we will use an existing dataset.\n",
    "\n",
    "Tzanetakis et al. (2001) \"Automatic Musical Genre Classification Of Audio Signals\"\n",
    "\n",
    "- Music selected from author's personal music library\n",
    "- 1000 audio tracks, 30 seconds each\n",
    "- 10 Genres, each with 100 tracks\n",
    "  - blues, classical, country, disco, hiphop, jazz, metal, pop, reggae, rock\n",
    "  \n",
    "(We're using a subset of 300 tracks from 3 genres: classical, metal and rock)\n",
    "  \n",
    "##### Feature Extraction\n",
    "\n",
    "- Spectral analysis of raw audio file using Marsyas\n",
    "- Our example dataset contains 124 spectral features describing audio content\n",
    "  - including: time-domain Zero-Crossings, Spectral Centroid, Rolloff, Flux and Mel-Frequency Cepstral Coefficients (MFCC)\n",
    "  \n",
    "**_What are some potential causes of biases in this dataset?_**"
   ]
  },
  {
   "cell_type": "markdown",
   "metadata": {
    "slideshow": {
     "slide_type": "slide"
    },
    "tags": []
   },
   "source": [
    "#### Load Reduced Feature and Full Feature Datasets"
   ]
  },
  {
   "cell_type": "code",
   "execution_count": 2,
   "metadata": {
    "slideshow": {
     "slide_type": "fragment"
    },
    "tags": []
   },
   "outputs": [
    {
     "name": "stdout",
     "output_type": "stream",
     "text": [
      "X: Samples=300, Features=2\n",
      "y: Samples=300\n"
     ]
    }
   ],
   "source": [
    "# Load dataset with only two features for visualization\n",
    "X_sm, y_sm = datasets.load_svmlight_file(\"data/3genres.arff.libsvm\")\n",
    "X_sm = X_sm.toarray()\n",
    "print(f'X: Samples={X_sm.shape[0]}, Features={X_sm.shape[1]}')\n",
    "print(f'y: Samples={y_sm.shape[0]}')\n",
    "\n",
    "# save features and labels to Pandas dataframe for easier processing\n",
    "target_names = ['classical', 'jazz', 'metal']\n",
    "features_sm = ['centroid', 'rolloff']\n",
    "label = 'genre'\n",
    "df_sm = pd.DataFrame(data=X_sm, columns=features_sm)\n",
    "df_sm[label] = y_sm"
   ]
  },
  {
   "cell_type": "code",
   "execution_count": 3,
   "metadata": {
    "slideshow": {
     "slide_type": "fragment"
    },
    "tags": []
   },
   "outputs": [
    {
     "name": "stdout",
     "output_type": "stream",
     "text": [
      "X: Samples=300, Features=124\n",
      "y: Samples=300\n"
     ]
    }
   ],
   "source": [
    "# Load dataset with only with all features\n",
    "X_full, y_full = datasets.load_svmlight_file(\"data/3genres_full.arff.libsvm\")\n",
    "X_full = X_full.toarray()\n",
    "print(f'X: Samples={X_full.shape[0]}, Features={X_full.shape[1]}')\n",
    "print(f'y: Samples={y_full.shape[0]}')\n",
    "\n",
    "# save features and labels to Pandas dataframe for easier processing\n",
    "target_names = ['classical', 'jazz', 'metal']\n",
    "features_full = list(range(X_full.shape[1]))\n",
    "label = 'genre'\n",
    "df_full = pd.DataFrame(data=X_full, columns=features_full)\n",
    "df_full[label] = y_full"
   ]
  },
  {
   "cell_type": "markdown",
   "metadata": {
    "slideshow": {
     "slide_type": "slide"
    },
    "tags": []
   },
   "source": [
    "#### Review Datasets"
   ]
  },
  {
   "cell_type": "code",
   "execution_count": 4,
   "metadata": {
    "slideshow": {
     "slide_type": "fragment"
    },
    "tags": []
   },
   "outputs": [
    {
     "data": {
      "text/html": [
       "<div>\n",
       "<style scoped>\n",
       "    .dataframe tbody tr th:only-of-type {\n",
       "        vertical-align: middle;\n",
       "    }\n",
       "\n",
       "    .dataframe tbody tr th {\n",
       "        vertical-align: top;\n",
       "    }\n",
       "\n",
       "    .dataframe thead th {\n",
       "        text-align: right;\n",
       "    }\n",
       "</style>\n",
       "<table border=\"1\" class=\"dataframe\">\n",
       "  <thead>\n",
       "    <tr style=\"text-align: right;\">\n",
       "      <th></th>\n",
       "      <th>centroid</th>\n",
       "      <th>rolloff</th>\n",
       "      <th>genre</th>\n",
       "    </tr>\n",
       "  </thead>\n",
       "  <tbody>\n",
       "    <tr>\n",
       "      <th>0</th>\n",
       "      <td>0.04040</td>\n",
       "      <td>0.01367</td>\n",
       "      <td>0.00000</td>\n",
       "    </tr>\n",
       "    <tr>\n",
       "      <th>1</th>\n",
       "      <td>0.03766</td>\n",
       "      <td>0.01253</td>\n",
       "      <td>0.00000</td>\n",
       "    </tr>\n",
       "    <tr>\n",
       "      <th>2</th>\n",
       "      <td>0.03572</td>\n",
       "      <td>0.01455</td>\n",
       "      <td>0.00000</td>\n",
       "    </tr>\n",
       "    <tr>\n",
       "      <th>3</th>\n",
       "      <td>0.04372</td>\n",
       "      <td>0.01943</td>\n",
       "      <td>0.00000</td>\n",
       "    </tr>\n",
       "    <tr>\n",
       "      <th>4</th>\n",
       "      <td>0.04766</td>\n",
       "      <td>0.01968</td>\n",
       "      <td>0.00000</td>\n",
       "    </tr>\n",
       "  </tbody>\n",
       "</table>\n",
       "</div>"
      ],
      "text/plain": [
       "   centroid  rolloff   genre\n",
       "0   0.04040  0.01367 0.00000\n",
       "1   0.03766  0.01253 0.00000\n",
       "2   0.03572  0.01455 0.00000\n",
       "3   0.04372  0.01943 0.00000\n",
       "4   0.04766  0.01968 0.00000"
      ]
     },
     "execution_count": 4,
     "metadata": {},
     "output_type": "execute_result"
    }
   ],
   "source": [
    "df_sm.head()"
   ]
  },
  {
   "cell_type": "code",
   "execution_count": 5,
   "metadata": {
    "scrolled": true,
    "slideshow": {
     "slide_type": "fragment"
    },
    "tags": []
   },
   "outputs": [
    {
     "data": {
      "text/html": [
       "<div>\n",
       "<style scoped>\n",
       "    .dataframe tbody tr th:only-of-type {\n",
       "        vertical-align: middle;\n",
       "    }\n",
       "\n",
       "    .dataframe tbody tr th {\n",
       "        vertical-align: top;\n",
       "    }\n",
       "\n",
       "    .dataframe thead th {\n",
       "        text-align: right;\n",
       "    }\n",
       "</style>\n",
       "<table border=\"1\" class=\"dataframe\">\n",
       "  <thead>\n",
       "    <tr style=\"text-align: right;\">\n",
       "      <th></th>\n",
       "      <th>0</th>\n",
       "      <th>1</th>\n",
       "      <th>2</th>\n",
       "      <th>3</th>\n",
       "      <th>4</th>\n",
       "      <th>5</th>\n",
       "      <th>6</th>\n",
       "      <th>7</th>\n",
       "      <th>8</th>\n",
       "      <th>9</th>\n",
       "      <th>...</th>\n",
       "      <th>115</th>\n",
       "      <th>116</th>\n",
       "      <th>117</th>\n",
       "      <th>118</th>\n",
       "      <th>119</th>\n",
       "      <th>120</th>\n",
       "      <th>121</th>\n",
       "      <th>122</th>\n",
       "      <th>123</th>\n",
       "      <th>genre</th>\n",
       "    </tr>\n",
       "  </thead>\n",
       "  <tbody>\n",
       "    <tr>\n",
       "      <th>0</th>\n",
       "      <td>0.05118</td>\n",
       "      <td>0.04040</td>\n",
       "      <td>0.06487</td>\n",
       "      <td>0.09798</td>\n",
       "      <td>-56.20986</td>\n",
       "      <td>5.83262</td>\n",
       "      <td>-1.59563</td>\n",
       "      <td>0.30189</td>\n",
       "      <td>-0.02808</td>\n",
       "      <td>0.60366</td>\n",
       "      <td>...</td>\n",
       "      <td>0.00001</td>\n",
       "      <td>0.00001</td>\n",
       "      <td>0.00001</td>\n",
       "      <td>0.00001</td>\n",
       "      <td>0.00001</td>\n",
       "      <td>0.00001</td>\n",
       "      <td>0.00001</td>\n",
       "      <td>0.27313</td>\n",
       "      <td>14.62464</td>\n",
       "      <td>0.00000</td>\n",
       "    </tr>\n",
       "    <tr>\n",
       "      <th>1</th>\n",
       "      <td>0.04580</td>\n",
       "      <td>0.03766</td>\n",
       "      <td>0.05608</td>\n",
       "      <td>0.09139</td>\n",
       "      <td>-58.20915</td>\n",
       "      <td>6.37194</td>\n",
       "      <td>-1.22784</td>\n",
       "      <td>0.07340</td>\n",
       "      <td>0.04066</td>\n",
       "      <td>0.94512</td>\n",
       "      <td>...</td>\n",
       "      <td>0.00001</td>\n",
       "      <td>0.00001</td>\n",
       "      <td>0.00000</td>\n",
       "      <td>0.00000</td>\n",
       "      <td>0.00000</td>\n",
       "      <td>0.00000</td>\n",
       "      <td>0.00000</td>\n",
       "      <td>0.23715</td>\n",
       "      <td>36.40195</td>\n",
       "      <td>0.00000</td>\n",
       "    </tr>\n",
       "    <tr>\n",
       "      <th>2</th>\n",
       "      <td>0.04722</td>\n",
       "      <td>0.03572</td>\n",
       "      <td>0.06051</td>\n",
       "      <td>0.10161</td>\n",
       "      <td>-54.71840</td>\n",
       "      <td>5.87012</td>\n",
       "      <td>-1.22444</td>\n",
       "      <td>0.38164</td>\n",
       "      <td>0.08155</td>\n",
       "      <td>0.92471</td>\n",
       "      <td>...</td>\n",
       "      <td>0.00002</td>\n",
       "      <td>0.00001</td>\n",
       "      <td>0.00001</td>\n",
       "      <td>0.00001</td>\n",
       "      <td>0.00001</td>\n",
       "      <td>0.00001</td>\n",
       "      <td>0.00001</td>\n",
       "      <td>0.26482</td>\n",
       "      <td>9.41532</td>\n",
       "      <td>0.00000</td>\n",
       "    </tr>\n",
       "    <tr>\n",
       "      <th>3</th>\n",
       "      <td>0.05634</td>\n",
       "      <td>0.04372</td>\n",
       "      <td>0.07720</td>\n",
       "      <td>0.09329</td>\n",
       "      <td>-58.10316</td>\n",
       "      <td>5.13522</td>\n",
       "      <td>-1.58811</td>\n",
       "      <td>0.64367</td>\n",
       "      <td>-0.02710</td>\n",
       "      <td>1.11544</td>\n",
       "      <td>...</td>\n",
       "      <td>0.00001</td>\n",
       "      <td>0.00001</td>\n",
       "      <td>0.00002</td>\n",
       "      <td>0.00003</td>\n",
       "      <td>0.00001</td>\n",
       "      <td>0.00000</td>\n",
       "      <td>0.00000</td>\n",
       "      <td>0.26283</td>\n",
       "      <td>9.48069</td>\n",
       "      <td>0.00000</td>\n",
       "    </tr>\n",
       "    <tr>\n",
       "      <th>4</th>\n",
       "      <td>0.05882</td>\n",
       "      <td>0.04766</td>\n",
       "      <td>0.08036</td>\n",
       "      <td>0.09979</td>\n",
       "      <td>-54.70623</td>\n",
       "      <td>5.20736</td>\n",
       "      <td>-1.32606</td>\n",
       "      <td>0.69685</td>\n",
       "      <td>-0.27829</td>\n",
       "      <td>0.42696</td>\n",
       "      <td>...</td>\n",
       "      <td>0.00001</td>\n",
       "      <td>0.00001</td>\n",
       "      <td>0.00002</td>\n",
       "      <td>0.00002</td>\n",
       "      <td>0.00001</td>\n",
       "      <td>0.00001</td>\n",
       "      <td>0.00001</td>\n",
       "      <td>0.28265</td>\n",
       "      <td>9.13761</td>\n",
       "      <td>0.00000</td>\n",
       "    </tr>\n",
       "  </tbody>\n",
       "</table>\n",
       "<p>5 rows × 125 columns</p>\n",
       "</div>"
      ],
      "text/plain": [
       "        0       1       2       3         4       5        6       7        8  \\\n",
       "0 0.05118 0.04040 0.06487 0.09798 -56.20986 5.83262 -1.59563 0.30189 -0.02808   \n",
       "1 0.04580 0.03766 0.05608 0.09139 -58.20915 6.37194 -1.22784 0.07340  0.04066   \n",
       "2 0.04722 0.03572 0.06051 0.10161 -54.71840 5.87012 -1.22444 0.38164  0.08155   \n",
       "3 0.05634 0.04372 0.07720 0.09329 -58.10316 5.13522 -1.58811 0.64367 -0.02710   \n",
       "4 0.05882 0.04766 0.08036 0.09979 -54.70623 5.20736 -1.32606 0.69685 -0.27829   \n",
       "\n",
       "        9  ...     115     116     117     118     119     120     121  \\\n",
       "0 0.60366  ... 0.00001 0.00001 0.00001 0.00001 0.00001 0.00001 0.00001   \n",
       "1 0.94512  ... 0.00001 0.00001 0.00000 0.00000 0.00000 0.00000 0.00000   \n",
       "2 0.92471  ... 0.00002 0.00001 0.00001 0.00001 0.00001 0.00001 0.00001   \n",
       "3 1.11544  ... 0.00001 0.00001 0.00002 0.00003 0.00001 0.00000 0.00000   \n",
       "4 0.42696  ... 0.00001 0.00001 0.00002 0.00002 0.00001 0.00001 0.00001   \n",
       "\n",
       "      122      123   genre  \n",
       "0 0.27313 14.62464 0.00000  \n",
       "1 0.23715 36.40195 0.00000  \n",
       "2 0.26482  9.41532 0.00000  \n",
       "3 0.26283  9.48069 0.00000  \n",
       "4 0.28265  9.13761 0.00000  \n",
       "\n",
       "[5 rows x 125 columns]"
      ]
     },
     "execution_count": 5,
     "metadata": {},
     "output_type": "execute_result"
    }
   ],
   "source": [
    "df_full.head()"
   ]
  },
  {
   "cell_type": "markdown",
   "metadata": {
    "slideshow": {
     "slide_type": "slide"
    },
    "tags": []
   },
   "source": [
    "#### Review Datasets"
   ]
  },
  {
   "cell_type": "code",
   "execution_count": 6,
   "metadata": {
    "slideshow": {
     "slide_type": "fragment"
    },
    "tags": []
   },
   "outputs": [
    {
     "data": {
      "text/html": [
       "<div>\n",
       "<style scoped>\n",
       "    .dataframe tbody tr th:only-of-type {\n",
       "        vertical-align: middle;\n",
       "    }\n",
       "\n",
       "    .dataframe tbody tr th {\n",
       "        vertical-align: top;\n",
       "    }\n",
       "\n",
       "    .dataframe thead th {\n",
       "        text-align: right;\n",
       "    }\n",
       "</style>\n",
       "<table border=\"1\" class=\"dataframe\">\n",
       "  <thead>\n",
       "    <tr style=\"text-align: right;\">\n",
       "      <th></th>\n",
       "      <th>centroid</th>\n",
       "      <th>rolloff</th>\n",
       "    </tr>\n",
       "  </thead>\n",
       "  <tbody>\n",
       "    <tr>\n",
       "      <th>count</th>\n",
       "      <td>300.00000</td>\n",
       "      <td>300.00000</td>\n",
       "    </tr>\n",
       "    <tr>\n",
       "      <th>mean</th>\n",
       "      <td>0.03794</td>\n",
       "      <td>0.07660</td>\n",
       "    </tr>\n",
       "    <tr>\n",
       "      <th>std</th>\n",
       "      <td>0.01679</td>\n",
       "      <td>0.06707</td>\n",
       "    </tr>\n",
       "    <tr>\n",
       "      <th>min</th>\n",
       "      <td>0.01094</td>\n",
       "      <td>0.00411</td>\n",
       "    </tr>\n",
       "    <tr>\n",
       "      <th>25%</th>\n",
       "      <td>0.02533</td>\n",
       "      <td>0.02495</td>\n",
       "    </tr>\n",
       "    <tr>\n",
       "      <th>50%</th>\n",
       "      <td>0.03315</td>\n",
       "      <td>0.05693</td>\n",
       "    </tr>\n",
       "    <tr>\n",
       "      <th>75%</th>\n",
       "      <td>0.04888</td>\n",
       "      <td>0.10812</td>\n",
       "    </tr>\n",
       "    <tr>\n",
       "      <th>max</th>\n",
       "      <td>0.10389</td>\n",
       "      <td>0.35726</td>\n",
       "    </tr>\n",
       "  </tbody>\n",
       "</table>\n",
       "</div>"
      ],
      "text/plain": [
       "       centroid   rolloff\n",
       "count 300.00000 300.00000\n",
       "mean    0.03794   0.07660\n",
       "std     0.01679   0.06707\n",
       "min     0.01094   0.00411\n",
       "25%     0.02533   0.02495\n",
       "50%     0.03315   0.05693\n",
       "75%     0.04888   0.10812\n",
       "max     0.10389   0.35726"
      ]
     },
     "execution_count": 6,
     "metadata": {},
     "output_type": "execute_result"
    }
   ],
   "source": [
    "df_sm[features_sm].describe()"
   ]
  },
  {
   "cell_type": "code",
   "execution_count": 7,
   "metadata": {
    "slideshow": {
     "slide_type": "fragment"
    },
    "tags": []
   },
   "outputs": [
    {
     "data": {
      "text/html": [
       "<div>\n",
       "<style scoped>\n",
       "    .dataframe tbody tr th:only-of-type {\n",
       "        vertical-align: middle;\n",
       "    }\n",
       "\n",
       "    .dataframe tbody tr th {\n",
       "        vertical-align: top;\n",
       "    }\n",
       "\n",
       "    .dataframe thead th {\n",
       "        text-align: right;\n",
       "    }\n",
       "</style>\n",
       "<table border=\"1\" class=\"dataframe\">\n",
       "  <thead>\n",
       "    <tr style=\"text-align: right;\">\n",
       "      <th></th>\n",
       "      <th>0</th>\n",
       "      <th>1</th>\n",
       "      <th>2</th>\n",
       "      <th>3</th>\n",
       "      <th>4</th>\n",
       "      <th>5</th>\n",
       "      <th>6</th>\n",
       "      <th>7</th>\n",
       "      <th>8</th>\n",
       "      <th>9</th>\n",
       "      <th>...</th>\n",
       "      <th>114</th>\n",
       "      <th>115</th>\n",
       "      <th>116</th>\n",
       "      <th>117</th>\n",
       "      <th>118</th>\n",
       "      <th>119</th>\n",
       "      <th>120</th>\n",
       "      <th>121</th>\n",
       "      <th>122</th>\n",
       "      <th>123</th>\n",
       "    </tr>\n",
       "  </thead>\n",
       "  <tbody>\n",
       "    <tr>\n",
       "      <th>count</th>\n",
       "      <td>300.00000</td>\n",
       "      <td>300.00000</td>\n",
       "      <td>300.00000</td>\n",
       "      <td>300.00000</td>\n",
       "      <td>300.00000</td>\n",
       "      <td>300.00000</td>\n",
       "      <td>300.00000</td>\n",
       "      <td>300.00000</td>\n",
       "      <td>300.00000</td>\n",
       "      <td>300.00000</td>\n",
       "      <td>...</td>\n",
       "      <td>300.00000</td>\n",
       "      <td>300.00000</td>\n",
       "      <td>300.00000</td>\n",
       "      <td>300.00000</td>\n",
       "      <td>300.00000</td>\n",
       "      <td>300.00000</td>\n",
       "      <td>300.00000</td>\n",
       "      <td>300.00000</td>\n",
       "      <td>300.00000</td>\n",
       "      <td>300.00000</td>\n",
       "    </tr>\n",
       "    <tr>\n",
       "      <th>mean</th>\n",
       "      <td>0.05389</td>\n",
       "      <td>0.03794</td>\n",
       "      <td>0.11868</td>\n",
       "      <td>0.10536</td>\n",
       "      <td>-53.64746</td>\n",
       "      <td>4.89649</td>\n",
       "      <td>-0.20655</td>\n",
       "      <td>1.32746</td>\n",
       "      <td>-0.06876</td>\n",
       "      <td>0.38634</td>\n",
       "      <td>...</td>\n",
       "      <td>0.00007</td>\n",
       "      <td>0.00008</td>\n",
       "      <td>0.00008</td>\n",
       "      <td>0.00008</td>\n",
       "      <td>0.00008</td>\n",
       "      <td>0.00008</td>\n",
       "      <td>0.00007</td>\n",
       "      <td>0.00007</td>\n",
       "      <td>0.16279</td>\n",
       "      <td>5.12350</td>\n",
       "    </tr>\n",
       "    <tr>\n",
       "      <th>std</th>\n",
       "      <td>0.02510</td>\n",
       "      <td>0.01679</td>\n",
       "      <td>0.07081</td>\n",
       "      <td>0.01142</td>\n",
       "      <td>6.54546</td>\n",
       "      <td>2.47612</td>\n",
       "      <td>0.91284</td>\n",
       "      <td>0.53391</td>\n",
       "      <td>0.36135</td>\n",
       "      <td>0.34456</td>\n",
       "      <td>...</td>\n",
       "      <td>0.00009</td>\n",
       "      <td>0.00010</td>\n",
       "      <td>0.00010</td>\n",
       "      <td>0.00010</td>\n",
       "      <td>0.00010</td>\n",
       "      <td>0.00010</td>\n",
       "      <td>0.00010</td>\n",
       "      <td>0.00010</td>\n",
       "      <td>0.07117</td>\n",
       "      <td>17.07572</td>\n",
       "    </tr>\n",
       "    <tr>\n",
       "      <th>min</th>\n",
       "      <td>0.01410</td>\n",
       "      <td>0.01094</td>\n",
       "      <td>0.02191</td>\n",
       "      <td>0.07758</td>\n",
       "      <td>-74.41200</td>\n",
       "      <td>0.37162</td>\n",
       "      <td>-3.18247</td>\n",
       "      <td>-0.45590</td>\n",
       "      <td>-1.79987</td>\n",
       "      <td>-0.82382</td>\n",
       "      <td>...</td>\n",
       "      <td>0.00000</td>\n",
       "      <td>0.00000</td>\n",
       "      <td>0.00000</td>\n",
       "      <td>0.00000</td>\n",
       "      <td>0.00000</td>\n",
       "      <td>0.00000</td>\n",
       "      <td>0.00000</td>\n",
       "      <td>0.00000</td>\n",
       "      <td>0.02820</td>\n",
       "      <td>0.11915</td>\n",
       "    </tr>\n",
       "    <tr>\n",
       "      <th>25%</th>\n",
       "      <td>0.03397</td>\n",
       "      <td>0.02533</td>\n",
       "      <td>0.06372</td>\n",
       "      <td>0.09761</td>\n",
       "      <td>-57.85861</td>\n",
       "      <td>2.65915</td>\n",
       "      <td>-0.94398</td>\n",
       "      <td>1.02378</td>\n",
       "      <td>-0.28086</td>\n",
       "      <td>0.15567</td>\n",
       "      <td>...</td>\n",
       "      <td>0.00002</td>\n",
       "      <td>0.00002</td>\n",
       "      <td>0.00002</td>\n",
       "      <td>0.00002</td>\n",
       "      <td>0.00002</td>\n",
       "      <td>0.00001</td>\n",
       "      <td>0.00001</td>\n",
       "      <td>0.00001</td>\n",
       "      <td>0.10809</td>\n",
       "      <td>0.66451</td>\n",
       "    </tr>\n",
       "    <tr>\n",
       "      <th>50%</th>\n",
       "      <td>0.04646</td>\n",
       "      <td>0.03315</td>\n",
       "      <td>0.10516</td>\n",
       "      <td>0.10681</td>\n",
       "      <td>-53.48756</td>\n",
       "      <td>5.07996</td>\n",
       "      <td>-0.16906</td>\n",
       "      <td>1.28320</td>\n",
       "      <td>-0.09214</td>\n",
       "      <td>0.36167</td>\n",
       "      <td>...</td>\n",
       "      <td>0.00004</td>\n",
       "      <td>0.00004</td>\n",
       "      <td>0.00004</td>\n",
       "      <td>0.00004</td>\n",
       "      <td>0.00004</td>\n",
       "      <td>0.00004</td>\n",
       "      <td>0.00003</td>\n",
       "      <td>0.00003</td>\n",
       "      <td>0.15309</td>\n",
       "      <td>1.48732</td>\n",
       "    </tr>\n",
       "    <tr>\n",
       "      <th>75%</th>\n",
       "      <td>0.07330</td>\n",
       "      <td>0.04888</td>\n",
       "      <td>0.16386</td>\n",
       "      <td>0.11412</td>\n",
       "      <td>-48.47865</td>\n",
       "      <td>6.82161</td>\n",
       "      <td>0.43485</td>\n",
       "      <td>1.65675</td>\n",
       "      <td>0.13995</td>\n",
       "      <td>0.59060</td>\n",
       "      <td>...</td>\n",
       "      <td>0.00009</td>\n",
       "      <td>0.00010</td>\n",
       "      <td>0.00010</td>\n",
       "      <td>0.00009</td>\n",
       "      <td>0.00009</td>\n",
       "      <td>0.00008</td>\n",
       "      <td>0.00008</td>\n",
       "      <td>0.00008</td>\n",
       "      <td>0.20129</td>\n",
       "      <td>4.22292</td>\n",
       "    </tr>\n",
       "    <tr>\n",
       "      <th>max</th>\n",
       "      <td>0.14225</td>\n",
       "      <td>0.10389</td>\n",
       "      <td>0.57170</td>\n",
       "      <td>0.13242</td>\n",
       "      <td>-42.21521</td>\n",
       "      <td>10.57150</td>\n",
       "      <td>2.05170</td>\n",
       "      <td>3.17329</td>\n",
       "      <td>1.09607</td>\n",
       "      <td>1.32804</td>\n",
       "      <td>...</td>\n",
       "      <td>0.00051</td>\n",
       "      <td>0.00053</td>\n",
       "      <td>0.00054</td>\n",
       "      <td>0.00054</td>\n",
       "      <td>0.00054</td>\n",
       "      <td>0.00054</td>\n",
       "      <td>0.00053</td>\n",
       "      <td>0.00052</td>\n",
       "      <td>0.43053</td>\n",
       "      <td>251.41557</td>\n",
       "    </tr>\n",
       "  </tbody>\n",
       "</table>\n",
       "<p>8 rows × 124 columns</p>\n",
       "</div>"
      ],
      "text/plain": [
       "            0         1         2         3         4         5         6    \\\n",
       "count 300.00000 300.00000 300.00000 300.00000 300.00000 300.00000 300.00000   \n",
       "mean    0.05389   0.03794   0.11868   0.10536 -53.64746   4.89649  -0.20655   \n",
       "std     0.02510   0.01679   0.07081   0.01142   6.54546   2.47612   0.91284   \n",
       "min     0.01410   0.01094   0.02191   0.07758 -74.41200   0.37162  -3.18247   \n",
       "25%     0.03397   0.02533   0.06372   0.09761 -57.85861   2.65915  -0.94398   \n",
       "50%     0.04646   0.03315   0.10516   0.10681 -53.48756   5.07996  -0.16906   \n",
       "75%     0.07330   0.04888   0.16386   0.11412 -48.47865   6.82161   0.43485   \n",
       "max     0.14225   0.10389   0.57170   0.13242 -42.21521  10.57150   2.05170   \n",
       "\n",
       "            7         8         9    ...       114       115       116  \\\n",
       "count 300.00000 300.00000 300.00000  ... 300.00000 300.00000 300.00000   \n",
       "mean    1.32746  -0.06876   0.38634  ...   0.00007   0.00008   0.00008   \n",
       "std     0.53391   0.36135   0.34456  ...   0.00009   0.00010   0.00010   \n",
       "min    -0.45590  -1.79987  -0.82382  ...   0.00000   0.00000   0.00000   \n",
       "25%     1.02378  -0.28086   0.15567  ...   0.00002   0.00002   0.00002   \n",
       "50%     1.28320  -0.09214   0.36167  ...   0.00004   0.00004   0.00004   \n",
       "75%     1.65675   0.13995   0.59060  ...   0.00009   0.00010   0.00010   \n",
       "max     3.17329   1.09607   1.32804  ...   0.00051   0.00053   0.00054   \n",
       "\n",
       "            117       118       119       120       121       122       123  \n",
       "count 300.00000 300.00000 300.00000 300.00000 300.00000 300.00000 300.00000  \n",
       "mean    0.00008   0.00008   0.00008   0.00007   0.00007   0.16279   5.12350  \n",
       "std     0.00010   0.00010   0.00010   0.00010   0.00010   0.07117  17.07572  \n",
       "min     0.00000   0.00000   0.00000   0.00000   0.00000   0.02820   0.11915  \n",
       "25%     0.00002   0.00002   0.00001   0.00001   0.00001   0.10809   0.66451  \n",
       "50%     0.00004   0.00004   0.00004   0.00003   0.00003   0.15309   1.48732  \n",
       "75%     0.00009   0.00009   0.00008   0.00008   0.00008   0.20129   4.22292  \n",
       "max     0.00054   0.00054   0.00054   0.00053   0.00052   0.43053 251.41557  \n",
       "\n",
       "[8 rows x 124 columns]"
      ]
     },
     "execution_count": 7,
     "metadata": {},
     "output_type": "execute_result"
    }
   ],
   "source": [
    "df_full[features_full].describe()"
   ]
  },
  {
   "cell_type": "markdown",
   "metadata": {
    "slideshow": {
     "slide_type": "slide"
    },
    "tags": []
   },
   "source": [
    "### Data Preperation / Preprocessing"
   ]
  },
  {
   "cell_type": "markdown",
   "metadata": {
    "slideshow": {
     "slide_type": "slide"
    },
    "tags": []
   },
   "source": [
    "##### __Data Processing__\n",
    "\n",
    "- standardizing and normalizing data\n",
    "- feature extraction (grey line between data collection and processing)\n",
    "- data augmentation\n",
    "- Feature Selection or Dimensionality Reduction\n",
    "  - [Principal Component Analysis](https://scikit-learn.org/stable/modules/decomposition.html#principal-component-analysis-pca)\n",
    "  - [t-SNE or Manifold Learning](https://scikit-learn.org/stable/modules/manifold.html)\n",
    "\n",
    "##### __Data Preperation__\n",
    "- Reviewing and cleaning data samples\n",
    "- Balancing Data\n",
    "  - Downsampling\n",
    "  - Upsampling\n",
    "  - [imbalanced-learn](https://imbalanced-learn.org/stable/)\n",
    "     - SMOTE for upsampling through synthetic data generation\n",
    "- Spliting data into Training, Testing and Validation (common for deep learning) datasets"
   ]
  },
  {
   "cell_type": "markdown",
   "metadata": {
    "slideshow": {
     "slide_type": "slide"
    },
    "tags": []
   },
   "source": [
    "#### Min Max Scaling"
   ]
  },
  {
   "cell_type": "markdown",
   "metadata": {
    "slideshow": {
     "slide_type": "fragment"
    }
   },
   "source": [
    "Scale each feature, $i$, to range $[min, max]$, using following formula:\n",
    "\n",
    "scale between $[0, 1]$\n",
    "$$\n",
    "    x_i^{\\prime} = \\dfrac{x_i - min(x_i)}{max(x_i) - min(x_i)}\n",
    "$$\n",
    "\n",
    "then scale to arbitrary min-max values in range $[min, max]$\n",
    "$$\n",
    "    x_i^{\\prime} = x_i^{\\prime} * (max - min) + min\n",
    "$$"
   ]
  },
  {
   "cell_type": "code",
   "execution_count": 8,
   "metadata": {
    "slideshow": {
     "slide_type": "fragment"
    },
    "tags": []
   },
   "outputs": [],
   "source": [
    "minmax_scaler = preprocessing.MinMaxScaler()  # default range [0, 1] can change using feature_range=(-1, 1)\n",
    "minmax_scaler.fit(df_sm[features_sm])\n",
    "X_minmax = minmax_scaler.transform(df_sm[features_sm])"
   ]
  },
  {
   "cell_type": "code",
   "execution_count": 9,
   "metadata": {
    "slideshow": {
     "slide_type": "fragment"
    },
    "tags": []
   },
   "outputs": [
    {
     "data": {
      "text/html": [
       "<div>\n",
       "<style scoped>\n",
       "    .dataframe tbody tr th:only-of-type {\n",
       "        vertical-align: middle;\n",
       "    }\n",
       "\n",
       "    .dataframe tbody tr th {\n",
       "        vertical-align: top;\n",
       "    }\n",
       "\n",
       "    .dataframe thead th {\n",
       "        text-align: right;\n",
       "    }\n",
       "</style>\n",
       "<table border=\"1\" class=\"dataframe\">\n",
       "  <thead>\n",
       "    <tr style=\"text-align: right;\">\n",
       "      <th></th>\n",
       "      <th>centroid</th>\n",
       "      <th>rolloff</th>\n",
       "    </tr>\n",
       "  </thead>\n",
       "  <tbody>\n",
       "    <tr>\n",
       "      <th>count</th>\n",
       "      <td>300.00000</td>\n",
       "      <td>300.00000</td>\n",
       "    </tr>\n",
       "    <tr>\n",
       "      <th>mean</th>\n",
       "      <td>0.29048</td>\n",
       "      <td>0.20527</td>\n",
       "    </tr>\n",
       "    <tr>\n",
       "      <th>std</th>\n",
       "      <td>0.18066</td>\n",
       "      <td>0.18991</td>\n",
       "    </tr>\n",
       "    <tr>\n",
       "      <th>min</th>\n",
       "      <td>0.00000</td>\n",
       "      <td>0.00000</td>\n",
       "    </tr>\n",
       "    <tr>\n",
       "      <th>25%</th>\n",
       "      <td>0.15485</td>\n",
       "      <td>0.05902</td>\n",
       "    </tr>\n",
       "    <tr>\n",
       "      <th>50%</th>\n",
       "      <td>0.23897</td>\n",
       "      <td>0.14959</td>\n",
       "    </tr>\n",
       "    <tr>\n",
       "      <th>75%</th>\n",
       "      <td>0.40825</td>\n",
       "      <td>0.29453</td>\n",
       "    </tr>\n",
       "    <tr>\n",
       "      <th>max</th>\n",
       "      <td>1.00000</td>\n",
       "      <td>1.00000</td>\n",
       "    </tr>\n",
       "  </tbody>\n",
       "</table>\n",
       "</div>"
      ],
      "text/plain": [
       "       centroid   rolloff\n",
       "count 300.00000 300.00000\n",
       "mean    0.29048   0.20527\n",
       "std     0.18066   0.18991\n",
       "min     0.00000   0.00000\n",
       "25%     0.15485   0.05902\n",
       "50%     0.23897   0.14959\n",
       "75%     0.40825   0.29453\n",
       "max     1.00000   1.00000"
      ]
     },
     "execution_count": 9,
     "metadata": {},
     "output_type": "execute_result"
    }
   ],
   "source": [
    "X_minmax = pd.DataFrame(data=X_minmax, columns=features_sm)\n",
    "X_minmax.describe()"
   ]
  },
  {
   "cell_type": "markdown",
   "metadata": {
    "slideshow": {
     "slide_type": "slide"
    },
    "tags": []
   },
   "source": [
    "#### Standardize Data or Zero Mean Unit Variance Normalization"
   ]
  },
  {
   "cell_type": "markdown",
   "metadata": {
    "slideshow": {
     "slide_type": "fragment"
    },
    "tags": []
   },
   "source": [
    "Removes the mean of the data and scales to have unit variance\n",
    "\n",
    "$$\n",
    "    x_i^{\\prime} = \\dfrac{x_i - \\mu_i}{\\sigma_i}\n",
    "$$\n",
    "\n",
    "where $\\mu$ is the mean and $\\sigma$ is the standard deviation of feature $i$"
   ]
  },
  {
   "cell_type": "code",
   "execution_count": 10,
   "metadata": {
    "slideshow": {
     "slide_type": "fragment"
    },
    "tags": []
   },
   "outputs": [],
   "source": [
    "standard_scaler = preprocessing.StandardScaler()\n",
    "X_zmuv = standard_scaler.fit_transform(df_sm[features_sm])"
   ]
  },
  {
   "cell_type": "code",
   "execution_count": 11,
   "metadata": {
    "slideshow": {
     "slide_type": "fragment"
    },
    "tags": []
   },
   "outputs": [
    {
     "data": {
      "text/html": [
       "<div>\n",
       "<style scoped>\n",
       "    .dataframe tbody tr th:only-of-type {\n",
       "        vertical-align: middle;\n",
       "    }\n",
       "\n",
       "    .dataframe tbody tr th {\n",
       "        vertical-align: top;\n",
       "    }\n",
       "\n",
       "    .dataframe thead th {\n",
       "        text-align: right;\n",
       "    }\n",
       "</style>\n",
       "<table border=\"1\" class=\"dataframe\">\n",
       "  <thead>\n",
       "    <tr style=\"text-align: right;\">\n",
       "      <th></th>\n",
       "      <th>centroid</th>\n",
       "      <th>rolloff</th>\n",
       "    </tr>\n",
       "  </thead>\n",
       "  <tbody>\n",
       "    <tr>\n",
       "      <th>count</th>\n",
       "      <td>300.00000</td>\n",
       "      <td>300.00000</td>\n",
       "    </tr>\n",
       "    <tr>\n",
       "      <th>mean</th>\n",
       "      <td>0.00000</td>\n",
       "      <td>-0.00000</td>\n",
       "    </tr>\n",
       "    <tr>\n",
       "      <th>std</th>\n",
       "      <td>1.00167</td>\n",
       "      <td>1.00167</td>\n",
       "    </tr>\n",
       "    <tr>\n",
       "      <th>min</th>\n",
       "      <td>-1.61056</td>\n",
       "      <td>-1.08267</td>\n",
       "    </tr>\n",
       "    <tr>\n",
       "      <th>25%</th>\n",
       "      <td>-0.75203</td>\n",
       "      <td>-0.77140</td>\n",
       "    </tr>\n",
       "    <tr>\n",
       "      <th>50%</th>\n",
       "      <td>-0.28563</td>\n",
       "      <td>-0.29368</td>\n",
       "    </tr>\n",
       "    <tr>\n",
       "      <th>75%</th>\n",
       "      <td>0.65296</td>\n",
       "      <td>0.47081</td>\n",
       "    </tr>\n",
       "    <tr>\n",
       "      <th>max</th>\n",
       "      <td>3.93385</td>\n",
       "      <td>4.19172</td>\n",
       "    </tr>\n",
       "  </tbody>\n",
       "</table>\n",
       "</div>"
      ],
      "text/plain": [
       "       centroid   rolloff\n",
       "count 300.00000 300.00000\n",
       "mean    0.00000  -0.00000\n",
       "std     1.00167   1.00167\n",
       "min    -1.61056  -1.08267\n",
       "25%    -0.75203  -0.77140\n",
       "50%    -0.28563  -0.29368\n",
       "75%     0.65296   0.47081\n",
       "max     3.93385   4.19172"
      ]
     },
     "execution_count": 11,
     "metadata": {},
     "output_type": "execute_result"
    }
   ],
   "source": [
    "X_zmuv = pd.DataFrame(data=X_zmuv, columns=features_sm)\n",
    "X_zmuv.describe()"
   ]
  },
  {
   "cell_type": "markdown",
   "metadata": {
    "slideshow": {
     "slide_type": "skip"
    },
    "tags": []
   },
   "source": [
    "####  \n",
    "---"
   ]
  },
  {
   "cell_type": "markdown",
   "metadata": {
    "slideshow": {
     "slide_type": "slide"
    },
    "tags": []
   },
   "source": [
    "#### Train/Test Split\n",
    "\n",
    "- Split dataset into train and testing sets\n",
    "- apply normalization preprocessing to datasets"
   ]
  },
  {
   "cell_type": "code",
   "execution_count": 12,
   "metadata": {
    "slideshow": {
     "slide_type": "slide"
    }
   },
   "outputs": [
    {
     "name": "stdout",
     "output_type": "stream",
     "text": [
      "Training Data\n",
      "X: (225, 2), y: (225,)\n",
      "Test Data\n",
      "X: (75, 2), y: (75,)\n"
     ]
    }
   ],
   "source": [
    "# get features and labels from original df\n",
    "# small dataset\n",
    "X = np.array(df_sm[features_sm])\n",
    "y = np.array(df_sm[label])\n",
    "\n",
    "# full dataset\n",
    "# X = np.array(df_full[features_full])\n",
    "# y = np.array(df_full[label])\n",
    "\n",
    "# Split the data for training and testing\n",
    "X_train, X_test, y_train, y_test = model_selection.train_test_split(X, y, test_size=.25, random_state=5)\n",
    "\n",
    "# initialize and fit scaler to training data\n",
    "scaler = preprocessing.MinMaxScaler()\n",
    "scaler.fit(X_train)\n",
    "\n",
    "# scale training and testing data using scaler fit on training data\n",
    "X_train = scaler.transform(X_train)\n",
    "X_test = scaler.transform(X_test)\n",
    "\n",
    "print('Training Data')\n",
    "print(f'X: {X_train.shape}, y: {y_train.shape}')\n",
    "print('Test Data')\n",
    "print(f'X: {X_test.shape}, y: {y_test.shape}')"
   ]
  },
  {
   "cell_type": "code",
   "execution_count": 13,
   "metadata": {
    "slideshow": {
     "slide_type": "slide"
    }
   },
   "outputs": [
    {
     "data": {
      "text/html": [
       "<div>\n",
       "<style scoped>\n",
       "    .dataframe tbody tr th:only-of-type {\n",
       "        vertical-align: middle;\n",
       "    }\n",
       "\n",
       "    .dataframe tbody tr th {\n",
       "        vertical-align: top;\n",
       "    }\n",
       "\n",
       "    .dataframe thead th {\n",
       "        text-align: right;\n",
       "    }\n",
       "</style>\n",
       "<table border=\"1\" class=\"dataframe\">\n",
       "  <thead>\n",
       "    <tr style=\"text-align: right;\">\n",
       "      <th></th>\n",
       "      <th>0</th>\n",
       "      <th>1</th>\n",
       "    </tr>\n",
       "  </thead>\n",
       "  <tbody>\n",
       "    <tr>\n",
       "      <th>count</th>\n",
       "      <td>225.00000</td>\n",
       "      <td>225.00000</td>\n",
       "    </tr>\n",
       "    <tr>\n",
       "      <th>mean</th>\n",
       "      <td>0.35942</td>\n",
       "      <td>0.19952</td>\n",
       "    </tr>\n",
       "    <tr>\n",
       "      <th>std</th>\n",
       "      <td>0.22468</td>\n",
       "      <td>0.18727</td>\n",
       "    </tr>\n",
       "    <tr>\n",
       "      <th>min</th>\n",
       "      <td>0.00000</td>\n",
       "      <td>0.00000</td>\n",
       "    </tr>\n",
       "    <tr>\n",
       "      <th>25%</th>\n",
       "      <td>0.18424</td>\n",
       "      <td>0.05691</td>\n",
       "    </tr>\n",
       "    <tr>\n",
       "      <th>50%</th>\n",
       "      <td>0.29570</td>\n",
       "      <td>0.14409</td>\n",
       "    </tr>\n",
       "    <tr>\n",
       "      <th>75%</th>\n",
       "      <td>0.51201</td>\n",
       "      <td>0.29458</td>\n",
       "    </tr>\n",
       "    <tr>\n",
       "      <th>max</th>\n",
       "      <td>1.00000</td>\n",
       "      <td>1.00000</td>\n",
       "    </tr>\n",
       "  </tbody>\n",
       "</table>\n",
       "</div>"
      ],
      "text/plain": [
       "              0         1\n",
       "count 225.00000 225.00000\n",
       "mean    0.35942   0.19952\n",
       "std     0.22468   0.18727\n",
       "min     0.00000   0.00000\n",
       "25%     0.18424   0.05691\n",
       "50%     0.29570   0.14409\n",
       "75%     0.51201   0.29458\n",
       "max     1.00000   1.00000"
      ]
     },
     "execution_count": 13,
     "metadata": {},
     "output_type": "execute_result"
    }
   ],
   "source": [
    "# Training Data Statistics\n",
    "df_tmp = pd.DataFrame(X_train)\n",
    "df_tmp.describe()"
   ]
  },
  {
   "cell_type": "code",
   "execution_count": 14,
   "metadata": {
    "slideshow": {
     "slide_type": "fragment"
    }
   },
   "outputs": [
    {
     "data": {
      "text/html": [
       "<div>\n",
       "<style scoped>\n",
       "    .dataframe tbody tr th:only-of-type {\n",
       "        vertical-align: middle;\n",
       "    }\n",
       "\n",
       "    .dataframe tbody tr th {\n",
       "        vertical-align: top;\n",
       "    }\n",
       "\n",
       "    .dataframe thead th {\n",
       "        text-align: right;\n",
       "    }\n",
       "</style>\n",
       "<table border=\"1\" class=\"dataframe\">\n",
       "  <thead>\n",
       "    <tr style=\"text-align: right;\">\n",
       "      <th></th>\n",
       "      <th>0</th>\n",
       "      <th>1</th>\n",
       "    </tr>\n",
       "  </thead>\n",
       "  <tbody>\n",
       "    <tr>\n",
       "      <th>count</th>\n",
       "      <td>75.00000</td>\n",
       "      <td>75.00000</td>\n",
       "    </tr>\n",
       "    <tr>\n",
       "      <th>mean</th>\n",
       "      <td>0.36087</td>\n",
       "      <td>0.21458</td>\n",
       "    </tr>\n",
       "    <tr>\n",
       "      <th>std</th>\n",
       "      <td>0.22248</td>\n",
       "      <td>0.20033</td>\n",
       "    </tr>\n",
       "    <tr>\n",
       "      <th>min</th>\n",
       "      <td>0.03758</td>\n",
       "      <td>-0.00250</td>\n",
       "    </tr>\n",
       "    <tr>\n",
       "      <th>25%</th>\n",
       "      <td>0.20734</td>\n",
       "      <td>0.05622</td>\n",
       "    </tr>\n",
       "    <tr>\n",
       "      <th>50%</th>\n",
       "      <td>0.30066</td>\n",
       "      <td>0.15097</td>\n",
       "    </tr>\n",
       "    <tr>\n",
       "      <th>75%</th>\n",
       "      <td>0.48773</td>\n",
       "      <td>0.28432</td>\n",
       "    </tr>\n",
       "    <tr>\n",
       "      <th>max</th>\n",
       "      <td>1.23857</td>\n",
       "      <td>0.99797</td>\n",
       "    </tr>\n",
       "  </tbody>\n",
       "</table>\n",
       "</div>"
      ],
      "text/plain": [
       "             0        1\n",
       "count 75.00000 75.00000\n",
       "mean   0.36087  0.21458\n",
       "std    0.22248  0.20033\n",
       "min    0.03758 -0.00250\n",
       "25%    0.20734  0.05622\n",
       "50%    0.30066  0.15097\n",
       "75%    0.48773  0.28432\n",
       "max    1.23857  0.99797"
      ]
     },
     "execution_count": 14,
     "metadata": {},
     "output_type": "execute_result"
    }
   ],
   "source": [
    "# Test Data Statistics\n",
    "df_tmp = pd.DataFrame(X_test)\n",
    "df_tmp.describe()"
   ]
  },
  {
   "cell_type": "markdown",
   "metadata": {
    "slideshow": {
     "slide_type": "slide"
    },
    "tags": []
   },
   "source": [
    "#### Questions\n",
    "1. Why is it important to scale/normalize the test data scaled separately with training data statistics?\n",
    "2. What is the problem with splitting the data randomly? \n",
    "    - How can this be addressed?"
   ]
  },
  {
   "cell_type": "markdown",
   "metadata": {
    "slideshow": {
     "slide_type": "skip"
    },
    "tags": []
   },
   "source": [
    "##  \n",
    "---"
   ]
  },
  {
   "cell_type": "markdown",
   "metadata": {
    "slideshow": {
     "slide_type": "slide"
    },
    "tags": []
   },
   "source": [
    "## Model Training  \n",
    "\n",
    "<img src=\"images/ml_pipeline_models.png\" width=1200>"
   ]
  },
  {
   "cell_type": "markdown",
   "metadata": {
    "jp-MarkdownHeadingCollapsed": true,
    "slideshow": {
     "slide_type": "slide"
    },
    "tags": []
   },
   "source": [
    "### Model Development"
   ]
  },
  {
   "cell_type": "markdown",
   "metadata": {
    "slideshow": {
     "slide_type": "slide"
    },
    "tags": []
   },
   "source": [
    "##### 1. Model Type and Architecture\n",
    "\n",
    "- Depends on Task, _T_\n",
    "    - Classification, Regression, Clustering, etc...\n",
    "- Model Type\n",
    "    - Classical ML\n",
    "        - Support Vector Machines, Linear or Logistic Regression, Decision Trees, etc...\n",
    "    - Deep Learning\n",
    "        - Feedfordward network, Convolutional Network, ResNet, Transformers, etc...\n",
    "\n",
    "##### 2. Hyperparameter selection\n",
    "\n",
    "- A parameter of selected model and architecture that affects the learning process\n",
    "- Used to tuning the model training process\n",
    "\n",
    "##### 3. Perform Training\n",
    "\n",
    "---"
   ]
  },
  {
   "cell_type": "markdown",
   "metadata": {
    "jp-MarkdownHeadingCollapsed": true,
    "slideshow": {
     "slide_type": "slide"
    },
    "tags": []
   },
   "source": [
    "#### Create and Train SVMs with different Kernels"
   ]
  },
  {
   "cell_type": "markdown",
   "metadata": {
    "slideshow": {
     "slide_type": "fragment"
    }
   },
   "source": [
    "A support vector machine (SVM) is a linear model that supports non-linear datasets through the [kernel trick](http://www.eric-kim.net/eric-kim-net/posts/1/kernel_trick.html) \n",
    "- (also see optional section, _More on SVMs Maximum Margin Seperating Hyperplane_, below).\n",
    "\n",
    "Scikit-Learn Support Vector Machine Implementations\n",
    "\n",
    "- [Support Vector Classifier](https://scikit-learn.org/stable/modules/generated/sklearn.svm.SVC.html)\n",
    "- [Linear Suppor Vector Classifier](https://scikit-learn.org/stable/modules/generated/sklearn.svm.LinearSVC.htmlhttps://scikit-learn.org/stable/modules/generated/sklearn.svm.LinearSVC.html)\n",
    "\n"
   ]
  },
  {
   "cell_type": "markdown",
   "metadata": {
    "jp-MarkdownHeadingCollapsed": true,
    "slideshow": {
     "slide_type": "slide"
    },
    "tags": []
   },
   "source": [
    "#### Hyperparameter Selection and Model Training"
   ]
  },
  {
   "cell_type": "code",
   "execution_count": 15,
   "metadata": {
    "slideshow": {
     "slide_type": "fragment"
    }
   },
   "outputs": [],
   "source": [
    "kernels = [\"linear\", \"rbf\", \"poly\"]\n",
    "C = .3 # regularization parameter\n",
    "poly_degree = 3 # polynomial order for the poly kernel (affects capacity)\n",
    "\n",
    "clfs = {\n",
    "    \"SVC w/ Linear Kernel\": svm.SVC(kernel=\"linear\", C=C),\n",
    "    \"LinearSVC\": svm.LinearSVC(C=C),\n",
    "    \"SVC w/ RBF Kernel\": svm.SVC(kernel=\"rbf\", C=C),\n",
    "    \"SVC w/ 3 Degree Polynomial kernel\": svm.SVC(kernel=\"poly\", degree=poly_degree, C=C)\n",
    "}"
   ]
  },
  {
   "cell_type": "code",
   "execution_count": 16,
   "metadata": {
    "slideshow": {
     "slide_type": "fragment"
    }
   },
   "outputs": [],
   "source": [
    "#train the models\n",
    "models = {title: clf.fit(X_train, y_train) \n",
    "          for title, clf in clfs.items()}"
   ]
  },
  {
   "cell_type": "markdown",
   "metadata": {
    "slideshow": {
     "slide_type": "slide"
    },
    "tags": []
   },
   "source": [
    "#### Plot the Models"
   ]
  },
  {
   "cell_type": "code",
   "execution_count": 17,
   "metadata": {
    "slideshow": {
     "slide_type": "fragment"
    },
    "tags": []
   },
   "outputs": [
    {
     "data": {
      "image/png": "[encoded data removed]",
      "text/plain": [
       "<Figure size 1440x1008 with 4 Axes>"
      ]
     },
     "metadata": {},
     "output_type": "display_data"
    }
   ],
   "source": [
    "fig, sub = plt.subplots(2,2, figsize=(20, 14))\n",
    "plt.subplots_adjust(wspace=0.2, hspace=0.2)\n",
    "\n",
    "# make mesh for plotting\n",
    "X_normed = scaler.transform(X) # scale X to ensure mesh has correct bounds\n",
    "xx, yy = make_mesh(X_normed[:, 0], X_normed[:, 1], padding=.1, h=.005)\n",
    "\n",
    "for (title, clf), ax in zip(models.items(), sub.flatten()):\n",
    "    \n",
    "    # predict all points on mesh for plotting decision boundries\n",
    "    Z = clf.predict(np.c_[xx.ravel(), yy.ravel()])\n",
    "    Z = Z.reshape(xx.shape)\n",
    "    \n",
    "    # Evaluate models\n",
    "    test_score = clf.score(X_test, y_test)\n",
    "    train_score = clf.score(X_train, y_train)\n",
    "    \n",
    "    # plot training or testing data\n",
    "    ax.scatter(X_train[:,0], X_train[:,1], c=y_train, cmap=plt.cm.coolwarm, zorder=11, edgecolor='k', s=20)\n",
    "#     ax.scatter(X_test[:,0], X_test[:,1], c=y_test, s=50, zorder=10, edgecolor='k',cmap=plt.cm.coolwarm)\n",
    "\n",
    "    # get support samples if supported by classifier (not supported by LinearSVC)\n",
    "    if title != \"LinearSVC\":\n",
    "        sv = clf.support_\n",
    "        X_support = X_train[sv]\n",
    "        y_support = y_train[sv]\n",
    "        ax.scatter(X_support[:,0], X_support[:, 1], c=y_support, cmap=plt.cm.coolwarm, \n",
    "                   s=100, zorder=10, edgecolor='k')\n",
    "\n",
    "    ax.contourf(xx, yy, Z, cmap=plt.cm.coolwarm)\n",
    "    ax.set_title(f'{title}: Training Acc: {train_score*100:.2f}, Test Acc: {test_score*100:.2f}')\n",
    "    ax.set_xticks(())\n",
    "    ax.set_yticks(())"
   ]
  },
  {
   "cell_type": "markdown",
   "metadata": {
    "slideshow": {
     "slide_type": "slide"
    },
    "tags": []
   },
   "source": [
    "### Model Evaluation"
   ]
  },
  {
   "cell_type": "markdown",
   "metadata": {
    "slideshow": {
     "slide_type": "fragment"
    }
   },
   "source": [
    "- Evaluation models for with the goal of ___generalizability___\n",
    "- Metric selection typically depends on task\n",
    "\n",
    "##### __Some common metrics are:__\n",
    "- __Accuracy:__ percent of correctly labeled predictions\n",
    "  - $acc = \\dfrac{correct \\: preds}{total \\: preds}$\n",
    "  - $er =  1 - acc$\n",
    "- __Precision:__ proportion of positively labeled predictions that are correct\n",
    "  - $ precision = \\dfrac{tp}{tp + fp} $  \n",
    "- __Recall:__ proportion of actual positives that are identified correctly\n",
    "  - $ recall = \\dfrac{tp}{tp + fn} $  \n",
    "- __F1 Score:__ harmonic average of precision and recall\n",
    "  - $ F_{score}= 2 * \\dfrac{precision * recall}{precision + recall} $  \n",
    "  \n",
    "  \n",
    "##### __Confusion Matrics__\n",
    "\n",
    "- Matrix of actual vs. predicted labels for each class\n",
    "- Provides further intuition as to where model is confused\n",
    "\n",
    "---"
   ]
  },
  {
   "cell_type": "markdown",
   "metadata": {
    "slideshow": {
     "slide_type": "slide"
    },
    "tags": []
   },
   "source": [
    "#### Evaluate Trained SVMs\n",
    "\n",
    "\n",
    "[sklearn.metrics.classification_report](https://scikit-learn.org/stable/modules/generated/sklearn.metrics.classification_report.html?highlight=classification%20report#sklearn.metrics.classification_report)"
   ]
  },
  {
   "cell_type": "code",
   "execution_count": 18,
   "metadata": {
    "slideshow": {
     "slide_type": "fragment"
    }
   },
   "outputs": [
    {
     "name": "stdout",
     "output_type": "stream",
     "text": [
      "SVC w/ Linear Kernel\n",
      "              precision    recall  f1-score   support\n",
      "\n",
      "   classical       0.55      0.88      0.68        24\n",
      "        jazz       0.50      0.35      0.41        23\n",
      "       metal       0.81      0.61      0.69        28\n",
      "\n",
      "    accuracy                           0.61        75\n",
      "   macro avg       0.62      0.61      0.59        75\n",
      "weighted avg       0.63      0.61      0.60        75\n",
      "\n",
      "\n",
      "LinearSVC\n",
      "              precision    recall  f1-score   support\n",
      "\n",
      "   classical       0.67      0.83      0.74        24\n",
      "        jazz       0.74      0.61      0.67        23\n",
      "       metal       0.81      0.75      0.78        28\n",
      "\n",
      "    accuracy                           0.73        75\n",
      "   macro avg       0.74      0.73      0.73        75\n",
      "weighted avg       0.74      0.73      0.73        75\n",
      "\n",
      "\n",
      "SVC w/ RBF Kernel\n",
      "              precision    recall  f1-score   support\n",
      "\n",
      "   classical       0.65      0.71      0.68        24\n",
      "        jazz       0.68      0.65      0.67        23\n",
      "       metal       0.78      0.75      0.76        28\n",
      "\n",
      "    accuracy                           0.71        75\n",
      "   macro avg       0.70      0.70      0.70        75\n",
      "weighted avg       0.71      0.71      0.71        75\n",
      "\n",
      "\n",
      "SVC w/ 3 Degree Polynomial kernel\n",
      "              precision    recall  f1-score   support\n",
      "\n",
      "   classical       0.64      0.88      0.74        24\n",
      "        jazz       0.59      0.57      0.58        23\n",
      "       metal       0.95      0.68      0.79        28\n",
      "\n",
      "    accuracy                           0.71        75\n",
      "   macro avg       0.73      0.71      0.70        75\n",
      "weighted avg       0.74      0.71      0.71        75\n",
      "\n",
      "\n"
     ]
    }
   ],
   "source": [
    "for title, model in models.items():\n",
    "    y_pred = model.predict(X_test)\n",
    "    print(title)\n",
    "    print(metrics.classification_report(y_test, y_pred, target_names=target_names))\n",
    "    print()"
   ]
  },
  {
   "cell_type": "markdown",
   "metadata": {
    "slideshow": {
     "slide_type": "slide"
    }
   },
   "source": [
    "#### Plot Confusion Matrices\n",
    "\n",
    "[sklearn.metrics.confusion_matrix](https://scikit-learn.org/stable/modules/generated/sklearn.metrics.confusion_matrix.html)"
   ]
  },
  {
   "cell_type": "code",
   "execution_count": 19,
   "metadata": {
    "slideshow": {
     "slide_type": "fragment"
    }
   },
   "outputs": [
    {
     "data": {
      "image/png": "[encoded data removed]",
      "text/plain": [
       "<Figure size 1440x1008 with 8 Axes>"
      ]
     },
     "metadata": {
      "needs_background": "light"
     },
     "output_type": "display_data"
    }
   ],
   "source": [
    "plt.figure(figsize=(20, 14))\n",
    "for i, (title, model) in enumerate(models.items()):\n",
    "    y_pred = model.predict(X_test)\n",
    "    cm = metrics.confusion_matrix(y_test, y_pred)\n",
    "    plt.subplot(2, 2, i+1)\n",
    "    \n",
    "    df_cm = pd.DataFrame(cm, range(3), range(3))\n",
    "    sns.set(font_scale=1.4) # for label size\n",
    "    sns.heatmap(df_cm, annot=True, annot_kws={\"size\": 16}, cmap='Blues',\n",
    "                xticklabels=target_names, yticklabels=target_names) # font size\n",
    "    plt.title(title)"
   ]
  },
  {
   "cell_type": "markdown",
   "metadata": {
    "slideshow": {
     "slide_type": "slide"
    }
   },
   "source": [
    "#### Cross Validation with Hyperparameter Optimization\n",
    "\n",
    "A better method for selecting and evaluating models\n",
    "\n",
    "Here we will use scikit-learn's Pipeline and GridSearchCV methods to find optimal hyperparameters:  \n",
    "- [sklearn.pipeline.Pipeline](https://scikit-learn.org/stable/modules/generated/sklearn.pipeline.Pipeline.html)  \n",
    "- [sklearn.model_selection.GridSearchCV](https://scikit-learn.org/stable/modules/generated/sklearn.model_selection.GridSearchCV.html)\n",
    "\n",
    "##### Other Methods:  \n",
    "- [Randomized search and other scikit-learn methods](https://scikit-learn.org/stable/modules/classes.html#hyper-parameter-optimizers)    \n",
    "- [AutoML](https://www.automl.org/automl/)  \n",
    "- [Hyperopt: Distributed Hyperparameter Optimization](https://github.com/hyperopt/hyperopt)  \n",
    "- [Baysian Optimization](https://github.com/fmfn/BayesianOptimization)  "
   ]
  },
  {
   "cell_type": "code",
   "execution_count": 20,
   "metadata": {
    "slideshow": {
     "slide_type": "fragment"
    }
   },
   "outputs": [],
   "source": [
    "class DummyEstimator(BaseEstimator):\n",
    "    def fit(self): pass\n",
    "    def score(self): pass\n",
    "    \n",
    "# Define Hyperparameters\n",
    "C = [0.1, 1, 10]\n",
    "gamma = ['auto', 'scale', 0.005, 0.01, 0.1]\n",
    "poly_degree = [2, 3, 5]\n",
    "\n",
    "# Setup Training Pipeline\n",
    "scaler = preprocessing.MinMaxScaler()\n",
    "pipeline = Pipeline([('scaler', preprocessing.MinMaxScaler()), ('clf', DummyEstimator())])\n",
    "\n",
    "# Create Search Space\n",
    "search_space = [\n",
    "    {\n",
    "        'clf': [svm.LinearSVC()],\n",
    "        'clf__C': C\n",
    "    },\n",
    "    {\n",
    "        'clf': [svm.SVC()],\n",
    "        'clf__kernel': ['linear'],\n",
    "        'clf__C': C\n",
    "    },\n",
    "    {\n",
    "        'clf': [svm.SVC()],\n",
    "        'clf__kernel': ['rbf'],\n",
    "        'clf__C': C,\n",
    "        'clf__gamma': gamma,\n",
    "    },\n",
    "    {\n",
    "        'clf': [svm.SVC()],\n",
    "        'clf__kernel': ['poly'],\n",
    "        'clf__C': C,\n",
    "        'clf__gamma': gamma,\n",
    "        'clf__degree': poly_degree\n",
    "    }\n",
    "]\n",
    "\n",
    "# set up 5 fold cross validation\n",
    "clf = GridSearchCV(estimator=pipeline, param_grid=search_space, cv=5, verbose=1, scoring='f1_macro')\n"
   ]
  },
  {
   "cell_type": "code",
   "execution_count": 21,
   "metadata": {
    "slideshow": {
     "slide_type": "fragment"
    }
   },
   "outputs": [
    {
     "name": "stdout",
     "output_type": "stream",
     "text": [
      "Fitting 5 folds for each of 66 candidates, totalling 330 fits\n",
      "Best estimator found by grid search:\n",
      "Pipeline(steps=[('scaler', MinMaxScaler()), ('clf', SVC(C=10))])\n"
     ]
    }
   ],
   "source": [
    "clf = clf.fit(X_train, y_train)\n",
    "print(\"Best estimator found by grid search:\")\n",
    "print(clf.best_estimator_)"
   ]
  },
  {
   "cell_type": "code",
   "execution_count": 22,
   "metadata": {
    "slideshow": {
     "slide_type": "fragment"
    }
   },
   "outputs": [
    {
     "data": {
      "text/html": [
       "<div>\n",
       "<style scoped>\n",
       "    .dataframe tbody tr th:only-of-type {\n",
       "        vertical-align: middle;\n",
       "    }\n",
       "\n",
       "    .dataframe tbody tr th {\n",
       "        vertical-align: top;\n",
       "    }\n",
       "\n",
       "    .dataframe thead th {\n",
       "        text-align: right;\n",
       "    }\n",
       "</style>\n",
       "<table border=\"1\" class=\"dataframe\">\n",
       "  <thead>\n",
       "    <tr style=\"text-align: right;\">\n",
       "      <th></th>\n",
       "      <th>mean_fit_time</th>\n",
       "      <th>std_fit_time</th>\n",
       "      <th>mean_score_time</th>\n",
       "      <th>std_score_time</th>\n",
       "      <th>param_clf</th>\n",
       "      <th>param_clf__C</th>\n",
       "      <th>param_clf__kernel</th>\n",
       "      <th>param_clf__gamma</th>\n",
       "      <th>param_clf__degree</th>\n",
       "      <th>params</th>\n",
       "      <th>split0_test_score</th>\n",
       "      <th>split1_test_score</th>\n",
       "      <th>split2_test_score</th>\n",
       "      <th>split3_test_score</th>\n",
       "      <th>split4_test_score</th>\n",
       "      <th>mean_test_score</th>\n",
       "      <th>std_test_score</th>\n",
       "      <th>rank_test_score</th>\n",
       "    </tr>\n",
       "  </thead>\n",
       "  <tbody>\n",
       "    <tr>\n",
       "      <th>0</th>\n",
       "      <td>0.00149</td>\n",
       "      <td>0.00060</td>\n",
       "      <td>0.00123</td>\n",
       "      <td>0.00064</td>\n",
       "      <td>LinearSVC()</td>\n",
       "      <td>0.10000</td>\n",
       "      <td>NaN</td>\n",
       "      <td>NaN</td>\n",
       "      <td>NaN</td>\n",
       "      <td>{'clf': LinearSVC(), 'clf__C': 0.1}</td>\n",
       "      <td>0.69421</td>\n",
       "      <td>0.66443</td>\n",
       "      <td>0.69433</td>\n",
       "      <td>0.63035</td>\n",
       "      <td>0.75790</td>\n",
       "      <td>0.68824</td>\n",
       "      <td>0.04206</td>\n",
       "      <td>16</td>\n",
       "    </tr>\n",
       "    <tr>\n",
       "      <th>1</th>\n",
       "      <td>0.00178</td>\n",
       "      <td>0.00026</td>\n",
       "      <td>0.00100</td>\n",
       "      <td>0.00028</td>\n",
       "      <td>LinearSVC()</td>\n",
       "      <td>1</td>\n",
       "      <td>NaN</td>\n",
       "      <td>NaN</td>\n",
       "      <td>NaN</td>\n",
       "      <td>{'clf': LinearSVC(), 'clf__C': 1}</td>\n",
       "      <td>0.75878</td>\n",
       "      <td>0.66436</td>\n",
       "      <td>0.73563</td>\n",
       "      <td>0.64858</td>\n",
       "      <td>0.77937</td>\n",
       "      <td>0.71734</td>\n",
       "      <td>0.05183</td>\n",
       "      <td>5</td>\n",
       "    </tr>\n",
       "    <tr>\n",
       "      <th>2</th>\n",
       "      <td>0.00755</td>\n",
       "      <td>0.00084</td>\n",
       "      <td>0.00106</td>\n",
       "      <td>0.00014</td>\n",
       "      <td>LinearSVC()</td>\n",
       "      <td>10</td>\n",
       "      <td>NaN</td>\n",
       "      <td>NaN</td>\n",
       "      <td>NaN</td>\n",
       "      <td>{'clf': LinearSVC(), 'clf__C': 10}</td>\n",
       "      <td>0.75878</td>\n",
       "      <td>0.69190</td>\n",
       "      <td>0.67024</td>\n",
       "      <td>0.64858</td>\n",
       "      <td>0.77937</td>\n",
       "      <td>0.70977</td>\n",
       "      <td>0.05074</td>\n",
       "      <td>10</td>\n",
       "    </tr>\n",
       "    <tr>\n",
       "      <th>3</th>\n",
       "      <td>0.00227</td>\n",
       "      <td>0.00042</td>\n",
       "      <td>0.00118</td>\n",
       "      <td>0.00017</td>\n",
       "      <td>SVC()</td>\n",
       "      <td>0.10000</td>\n",
       "      <td>linear</td>\n",
       "      <td>NaN</td>\n",
       "      <td>NaN</td>\n",
       "      <td>{'clf': SVC(), 'clf__C': 0.1, 'clf__kernel': '...</td>\n",
       "      <td>0.35556</td>\n",
       "      <td>0.31633</td>\n",
       "      <td>0.35688</td>\n",
       "      <td>0.30303</td>\n",
       "      <td>0.38791</td>\n",
       "      <td>0.34394</td>\n",
       "      <td>0.03057</td>\n",
       "      <td>26</td>\n",
       "    </tr>\n",
       "    <tr>\n",
       "      <th>4</th>\n",
       "      <td>0.00182</td>\n",
       "      <td>0.00029</td>\n",
       "      <td>0.00120</td>\n",
       "      <td>0.00010</td>\n",
       "      <td>SVC()</td>\n",
       "      <td>1</td>\n",
       "      <td>linear</td>\n",
       "      <td>NaN</td>\n",
       "      <td>NaN</td>\n",
       "      <td>{'clf': SVC(), 'clf__C': 1, 'clf__kernel': 'li...</td>\n",
       "      <td>0.71832</td>\n",
       "      <td>0.67507</td>\n",
       "      <td>0.63951</td>\n",
       "      <td>0.66309</td>\n",
       "      <td>0.78183</td>\n",
       "      <td>0.69557</td>\n",
       "      <td>0.05015</td>\n",
       "      <td>12</td>\n",
       "    </tr>\n",
       "    <tr>\n",
       "      <th>...</th>\n",
       "      <td>...</td>\n",
       "      <td>...</td>\n",
       "      <td>...</td>\n",
       "      <td>...</td>\n",
       "      <td>...</td>\n",
       "      <td>...</td>\n",
       "      <td>...</td>\n",
       "      <td>...</td>\n",
       "      <td>...</td>\n",
       "      <td>...</td>\n",
       "      <td>...</td>\n",
       "      <td>...</td>\n",
       "      <td>...</td>\n",
       "      <td>...</td>\n",
       "      <td>...</td>\n",
       "      <td>...</td>\n",
       "      <td>...</td>\n",
       "      <td>...</td>\n",
       "    </tr>\n",
       "    <tr>\n",
       "      <th>61</th>\n",
       "      <td>0.00206</td>\n",
       "      <td>0.00032</td>\n",
       "      <td>0.00113</td>\n",
       "      <td>0.00017</td>\n",
       "      <td>SVC()</td>\n",
       "      <td>10</td>\n",
       "      <td>poly</td>\n",
       "      <td>auto</td>\n",
       "      <td>5</td>\n",
       "      <td>{'clf': SVC(), 'clf__C': 10, 'clf__degree': 5,...</td>\n",
       "      <td>0.25578</td>\n",
       "      <td>0.17089</td>\n",
       "      <td>0.33868</td>\n",
       "      <td>0.15819</td>\n",
       "      <td>0.13095</td>\n",
       "      <td>0.21090</td>\n",
       "      <td>0.07631</td>\n",
       "      <td>31</td>\n",
       "    </tr>\n",
       "    <tr>\n",
       "      <th>62</th>\n",
       "      <td>0.18612</td>\n",
       "      <td>0.09094</td>\n",
       "      <td>0.00117</td>\n",
       "      <td>0.00016</td>\n",
       "      <td>SVC()</td>\n",
       "      <td>10</td>\n",
       "      <td>poly</td>\n",
       "      <td>scale</td>\n",
       "      <td>5</td>\n",
       "      <td>{'clf': SVC(), 'clf__C': 10, 'clf__degree': 5,...</td>\n",
       "      <td>0.61752</td>\n",
       "      <td>0.64144</td>\n",
       "      <td>0.70513</td>\n",
       "      <td>0.63833</td>\n",
       "      <td>0.54610</td>\n",
       "      <td>0.62970</td>\n",
       "      <td>0.05107</td>\n",
       "      <td>21</td>\n",
       "    </tr>\n",
       "    <tr>\n",
       "      <th>63</th>\n",
       "      <td>0.00217</td>\n",
       "      <td>0.00046</td>\n",
       "      <td>0.00112</td>\n",
       "      <td>0.00016</td>\n",
       "      <td>SVC()</td>\n",
       "      <td>10</td>\n",
       "      <td>poly</td>\n",
       "      <td>0.00500</td>\n",
       "      <td>5</td>\n",
       "      <td>{'clf': SVC(), 'clf__C': 10, 'clf__degree': 5,...</td>\n",
       "      <td>0.11111</td>\n",
       "      <td>0.13095</td>\n",
       "      <td>0.12121</td>\n",
       "      <td>0.15819</td>\n",
       "      <td>0.13095</td>\n",
       "      <td>0.13048</td>\n",
       "      <td>0.01568</td>\n",
       "      <td>32</td>\n",
       "    </tr>\n",
       "    <tr>\n",
       "      <th>64</th>\n",
       "      <td>0.00208</td>\n",
       "      <td>0.00013</td>\n",
       "      <td>0.00133</td>\n",
       "      <td>0.00035</td>\n",
       "      <td>SVC()</td>\n",
       "      <td>10</td>\n",
       "      <td>poly</td>\n",
       "      <td>0.01000</td>\n",
       "      <td>5</td>\n",
       "      <td>{'clf': SVC(), 'clf__C': 10, 'clf__degree': 5,...</td>\n",
       "      <td>0.11111</td>\n",
       "      <td>0.13095</td>\n",
       "      <td>0.12121</td>\n",
       "      <td>0.15819</td>\n",
       "      <td>0.13095</td>\n",
       "      <td>0.13048</td>\n",
       "      <td>0.01568</td>\n",
       "      <td>32</td>\n",
       "    </tr>\n",
       "    <tr>\n",
       "      <th>65</th>\n",
       "      <td>0.00196</td>\n",
       "      <td>0.00015</td>\n",
       "      <td>0.00122</td>\n",
       "      <td>0.00037</td>\n",
       "      <td>SVC()</td>\n",
       "      <td>10</td>\n",
       "      <td>poly</td>\n",
       "      <td>0.10000</td>\n",
       "      <td>5</td>\n",
       "      <td>{'clf': SVC(), 'clf__C': 10, 'clf__degree': 5,...</td>\n",
       "      <td>0.11111</td>\n",
       "      <td>0.13095</td>\n",
       "      <td>0.12121</td>\n",
       "      <td>0.15819</td>\n",
       "      <td>0.13095</td>\n",
       "      <td>0.13048</td>\n",
       "      <td>0.01568</td>\n",
       "      <td>32</td>\n",
       "    </tr>\n",
       "  </tbody>\n",
       "</table>\n",
       "<p>66 rows × 18 columns</p>\n",
       "</div>"
      ],
      "text/plain": [
       "    mean_fit_time  std_fit_time  mean_score_time  std_score_time    param_clf  \\\n",
       "0         0.00149       0.00060          0.00123         0.00064  LinearSVC()   \n",
       "1         0.00178       0.00026          0.00100         0.00028  LinearSVC()   \n",
       "2         0.00755       0.00084          0.00106         0.00014  LinearSVC()   \n",
       "3         0.00227       0.00042          0.00118         0.00017        SVC()   \n",
       "4         0.00182       0.00029          0.00120         0.00010        SVC()   \n",
       "..            ...           ...              ...             ...          ...   \n",
       "61        0.00206       0.00032          0.00113         0.00017        SVC()   \n",
       "62        0.18612       0.09094          0.00117         0.00016        SVC()   \n",
       "63        0.00217       0.00046          0.00112         0.00016        SVC()   \n",
       "64        0.00208       0.00013          0.00133         0.00035        SVC()   \n",
       "65        0.00196       0.00015          0.00122         0.00037        SVC()   \n",
       "\n",
       "   param_clf__C param_clf__kernel param_clf__gamma param_clf__degree  \\\n",
       "0       0.10000               NaN              NaN               NaN   \n",
       "1             1               NaN              NaN               NaN   \n",
       "2            10               NaN              NaN               NaN   \n",
       "3       0.10000            linear              NaN               NaN   \n",
       "4             1            linear              NaN               NaN   \n",
       "..          ...               ...              ...               ...   \n",
       "61           10              poly             auto                 5   \n",
       "62           10              poly            scale                 5   \n",
       "63           10              poly          0.00500                 5   \n",
       "64           10              poly          0.01000                 5   \n",
       "65           10              poly          0.10000                 5   \n",
       "\n",
       "                                               params  split0_test_score  \\\n",
       "0                 {'clf': LinearSVC(), 'clf__C': 0.1}            0.69421   \n",
       "1                   {'clf': LinearSVC(), 'clf__C': 1}            0.75878   \n",
       "2                  {'clf': LinearSVC(), 'clf__C': 10}            0.75878   \n",
       "3   {'clf': SVC(), 'clf__C': 0.1, 'clf__kernel': '...            0.35556   \n",
       "4   {'clf': SVC(), 'clf__C': 1, 'clf__kernel': 'li...            0.71832   \n",
       "..                                                ...                ...   \n",
       "61  {'clf': SVC(), 'clf__C': 10, 'clf__degree': 5,...            0.25578   \n",
       "62  {'clf': SVC(), 'clf__C': 10, 'clf__degree': 5,...            0.61752   \n",
       "63  {'clf': SVC(), 'clf__C': 10, 'clf__degree': 5,...            0.11111   \n",
       "64  {'clf': SVC(), 'clf__C': 10, 'clf__degree': 5,...            0.11111   \n",
       "65  {'clf': SVC(), 'clf__C': 10, 'clf__degree': 5,...            0.11111   \n",
       "\n",
       "    split1_test_score  split2_test_score  split3_test_score  \\\n",
       "0             0.66443            0.69433            0.63035   \n",
       "1             0.66436            0.73563            0.64858   \n",
       "2             0.69190            0.67024            0.64858   \n",
       "3             0.31633            0.35688            0.30303   \n",
       "4             0.67507            0.63951            0.66309   \n",
       "..                ...                ...                ...   \n",
       "61            0.17089            0.33868            0.15819   \n",
       "62            0.64144            0.70513            0.63833   \n",
       "63            0.13095            0.12121            0.15819   \n",
       "64            0.13095            0.12121            0.15819   \n",
       "65            0.13095            0.12121            0.15819   \n",
       "\n",
       "    split4_test_score  mean_test_score  std_test_score  rank_test_score  \n",
       "0             0.75790          0.68824         0.04206               16  \n",
       "1             0.77937          0.71734         0.05183                5  \n",
       "2             0.77937          0.70977         0.05074               10  \n",
       "3             0.38791          0.34394         0.03057               26  \n",
       "4             0.78183          0.69557         0.05015               12  \n",
       "..                ...              ...             ...              ...  \n",
       "61            0.13095          0.21090         0.07631               31  \n",
       "62            0.54610          0.62970         0.05107               21  \n",
       "63            0.13095          0.13048         0.01568               32  \n",
       "64            0.13095          0.13048         0.01568               32  \n",
       "65            0.13095          0.13048         0.01568               32  \n",
       "\n",
       "[66 rows x 18 columns]"
      ]
     },
     "execution_count": 22,
     "metadata": {},
     "output_type": "execute_result"
    }
   ],
   "source": [
    "df = pd.DataFrame(clf.cv_results_)\n",
    "df"
   ]
  },
  {
   "cell_type": "markdown",
   "metadata": {
    "slideshow": {
     "slide_type": "slide"
    }
   },
   "source": [
    "##### Review Results of Best Classifier"
   ]
  },
  {
   "cell_type": "code",
   "execution_count": 23,
   "metadata": {
    "slideshow": {
     "slide_type": "fragment"
    }
   },
   "outputs": [
    {
     "name": "stdout",
     "output_type": "stream",
     "text": [
      "Train Acc = 0.777\n",
      "Test Acc =  0.716\n"
     ]
    }
   ],
   "source": [
    "print(f'Train Acc = {clf.score(X_train, y_train):.03f}')\n",
    "print(f'Test Acc =  {clf.score(X_test, y_test):.03f}')"
   ]
  },
  {
   "cell_type": "code",
   "execution_count": 24,
   "metadata": {
    "slideshow": {
     "slide_type": "fragment"
    }
   },
   "outputs": [
    {
     "name": "stdout",
     "output_type": "stream",
     "text": [
      "              precision    recall  f1-score   support\n",
      "\n",
      "   classical       0.70      0.67      0.68        24\n",
      "        jazz       0.67      0.70      0.68        23\n",
      "       metal       0.79      0.79      0.79        28\n",
      "\n",
      "    accuracy                           0.72        75\n",
      "   macro avg       0.72      0.72      0.72        75\n",
      "weighted avg       0.72      0.72      0.72        75\n",
      "\n"
     ]
    }
   ],
   "source": [
    "y_pred = clf.predict(X_test)\n",
    "print(metrics.classification_report(y_test, y_pred, target_names=target_names))"
   ]
  },
  {
   "cell_type": "code",
   "execution_count": 25,
   "metadata": {
    "slideshow": {
     "slide_type": "fragment"
    }
   },
   "outputs": [
    {
     "data": {
      "image/png": "[encoded data removed]",
      "text/plain": [
       "<Figure size 432x288 with 2 Axes>"
      ]
     },
     "metadata": {},
     "output_type": "display_data"
    }
   ],
   "source": [
    "cm = metrics.confusion_matrix(y_test, y_pred)\n",
    "\n",
    "    \n",
    "df_cm = pd.DataFrame(cm, range(3), range(3))\n",
    "sns.set(font_scale=1.4) # for label size\n",
    "sns.heatmap(df_cm, annot=True, annot_kws={\"size\": 16}, cmap='Blues',\n",
    "            xticklabels=target_names, yticklabels=target_names) # font size\n",
    "_ = plt.title('Best Classifier')"
   ]
  },
  {
   "cell_type": "markdown",
   "metadata": {
    "slideshow": {
     "slide_type": "slide"
    },
    "tags": []
   },
   "source": [
    "#### More on SVMs Maximum Margin Seperating Hyperplane (Optional)"
   ]
  },
  {
   "cell_type": "code",
   "execution_count": 26,
   "metadata": {
    "slideshow": {
     "slide_type": "slide"
    }
   },
   "outputs": [],
   "source": [
    "X_blobs, y_blobs = make_blobs(n_samples=40, centers=2, random_state=6)\n",
    "X_doughnut, y_doughnut, _, _ = get_doughnut_dataset()"
   ]
  },
  {
   "cell_type": "code",
   "execution_count": 27,
   "metadata": {
    "slideshow": {
     "slide_type": "fragment"
    },
    "tags": []
   },
   "outputs": [
    {
     "data": {
      "image/png": "[encoded data removed]",
      "text/plain": [
       "<Figure size 1296x1080 with 1 Axes>"
      ]
     },
     "metadata": {},
     "output_type": "display_data"
    }
   ],
   "source": [
    "# X, y = X_doughnut, y_doughnut\n",
    "X, y = X_blobs, y_blobs\n",
    "\n",
    "# fit the model, don't regularize \n",
    "clf = svm.SVC(kernel='linear', C=1) ## Try with different Kernels\n",
    "clf.fit(X, y)\n",
    "\n",
    "plt.figure(figsize=(18, 15))\n",
    "plt.scatter(X[:, 0], X[:, 1], c=y, s=200, cmap=plt.cm.Paired, zorder=10)\n",
    "\n",
    "# plot the decision function\n",
    "ax = plt.gca()\n",
    "xlim = ax.get_xlim()\n",
    "ylim = ax.get_ylim()\n",
    "\n",
    "# create grid to evaluate model\n",
    "xx, yy = make_mesh(X[:, 0], X[:, 1], padding=0, h=.05)\n",
    "Z = clf.decision_function(np.c_[xx.ravel(), yy.ravel()])\n",
    "Z = Z.reshape(xx.shape)\n",
    "\n",
    "# plot decision boundary and margins\n",
    "ax.contour(xx, yy, Z, levels=[-1, 0, 1], alpha=0.5, colors='k',\n",
    "           linestyles=['--', '-', '--'], zorder=11)\n",
    "# # plot support vectors\n",
    "sc = ax.scatter(clf.support_vectors_[:, 0], clf.support_vectors_[:, 1], s=250,\n",
    "           linewidth=1, facecolors='none', edgecolor='k', zorder=10)"
   ]
  },
  {
   "cell_type": "markdown",
   "metadata": {
    "slideshow": {
     "slide_type": "slide"
    },
    "tags": []
   },
   "source": [
    "### Model Postprocessing"
   ]
  },
  {
   "cell_type": "markdown",
   "metadata": {
    "slideshow": {
     "slide_type": "fragment"
    }
   },
   "source": [
    "##### __Postprocessing__\n",
    "\n",
    "- Selection of probablity (or score) threshold for final class determination\n",
    "  - often a tradeoff between precision and recall\n",
    "- Ensemble Aggregration\n",
    "- Sample Aggregation\n",
    "  - Majority voting vs. Max Value vs. Average\n",
    "  \n",
    "_Genre Classification Example of Sample Aggregation_\n",
    "\n",
    "- Instead of one feature vector per 30 second clip, we extract features every 5 seconds for training\n",
    "- How do we aggregate the results of all 6 clips into a final score?"
   ]
  },
  {
   "cell_type": "markdown",
   "metadata": {
    "slideshow": {
     "slide_type": "slide"
    },
    "tags": []
   },
   "source": [
    "### Model Deployment"
   ]
  },
  {
   "cell_type": "markdown",
   "metadata": {
    "slideshow": {
     "slide_type": "fragment"
    }
   },
   "source": [
    "##### __Challenges in Real World Deployment__\n",
    "\n",
    "- Real world setting vs. data collection setting\n",
    "    - Domain Shift / Data Drift\n",
    "- Deployment Requirements\n",
    "    - Explainabilty\n",
    "    - Latency vs. Real-time feedback\n",
    "- Unintended or undesired uses"
   ]
  }
 ],
 "metadata": {
  "celltoolbar": "Slideshow",
  "kernelspec": {
   "display_name": "Python 3 (ipykernel)",
   "language": "python",
   "name": "python3"
  },
  "language_info": {
   "codemirror_mode": {
    "name": "ipython",
    "version": 3
   },
   "file_extension": ".py",
   "mimetype": "text/x-python",
   "name": "python",
   "nbconvert_exporter": "python",
   "pygments_lexer": "ipython3",
   "version": "3.9.5"
  },
  "toc-showcode": false,
  "toc-showmarkdowntxt": false,
  "toc-showtags": false
 },
 "nbformat": 4,
 "nbformat_minor": 4
}
